{
 "cells": [
  {
   "cell_type": "code",
   "execution_count": 1,
   "metadata": {},
   "outputs": [],
   "source": [
    "import os\n",
    "import numpy as np\n",
    "import pandas as pd"
   ]
  },
  {
   "cell_type": "code",
   "execution_count": 2,
   "metadata": {},
   "outputs": [],
   "source": [
    "data_arr = []\n",
    "with open(\"IN.txt\") as f:\n",
    "    for row in f:\n",
    "        data_arr.append(row.split(\"\\t\")[:-1])     "
   ]
  },
  {
   "cell_type": "code",
   "execution_count": 3,
   "metadata": {},
   "outputs": [
    {
     "data": {
      "text/plain": [
       "[['1142043', '173652', 'IN', 'AF3', '0', '256'],\n",
       " ['1142044', '173652', 'IN', 'AF4', '0', '256'],\n",
       " ['1142045', '173652', 'IN', 'T7', '0', '256'],\n",
       " ['1142046', '173652', 'IN', 'T8', '0', '256'],\n",
       " ['1142047', '173652', 'IN', 'PZ', '0', '256']]"
      ]
     },
     "execution_count": 3,
     "metadata": {},
     "output_type": "execute_result"
    }
   ],
   "source": [
    "data_arr[:5]"
   ]
  },
  {
   "cell_type": "code",
   "execution_count": 4,
   "metadata": {},
   "outputs": [],
   "source": [
    "values_arr = []\n",
    "with open(\"IN.txt\") as f:\n",
    "    for row in f:\n",
    "        values_arr.append(row.split(\"\\t\")[-1])"
   ]
  },
  {
   "cell_type": "code",
   "execution_count": 14,
   "metadata": {},
   "outputs": [
    {
     "data": {
      "text/plain": [
       "256"
      ]
     },
     "execution_count": 14,
     "metadata": {},
     "output_type": "execute_result"
    }
   ],
   "source": [
    "ar = values_arr[0][:-1].split(\",\")\n",
    "ar = list(map(float, ar))\n",
    "ar = sorted(ar)"
   ]
  },
  {
   "cell_type": "code",
   "execution_count": 16,
   "metadata": {},
   "outputs": [],
   "source": [
    "# avg_val = []\n",
    "median_val = []\n",
    "# for val in values_arr:\n",
    "#     ans = val[:-1].split(\",\")\n",
    "#     ans = list(map(float, ans))\n",
    "#     avg_val.append((sum(ans)/len(ans)))\n",
    "\n",
    "for val in values_arr:\n",
    "    ans = val[:-1].split(\",\")\n",
    "    ans = list(map(float, ans))\n",
    "    ans = sorted(ans)\n",
    "    median_val.append(ans[len(ans)//2])"
   ]
  },
  {
   "cell_type": "code",
   "execution_count": 18,
   "metadata": {},
   "outputs": [
    {
     "data": {
      "text/plain": [
       "65250"
      ]
     },
     "execution_count": 18,
     "metadata": {},
     "output_type": "execute_result"
    }
   ],
   "source": [
    "# len(avg_val)\n",
    "len(median_val)"
   ]
  },
  {
   "cell_type": "code",
   "execution_count": 19,
   "metadata": {},
   "outputs": [],
   "source": [
    "# avg_val = np.array(avg_val)\n",
    "median_val = np.array(median_val)\n",
    "data_arr = np.array(data_arr)"
   ]
  },
  {
   "cell_type": "code",
   "execution_count": 20,
   "metadata": {},
   "outputs": [],
   "source": [
    "median_val = median_val.reshape(-1, 1)"
   ]
  },
  {
   "cell_type": "code",
   "execution_count": 21,
   "metadata": {},
   "outputs": [],
   "source": [
    "final_arr = np.append(data_arr, median_val, axis = 1)"
   ]
  },
  {
   "cell_type": "code",
   "execution_count": 22,
   "metadata": {},
   "outputs": [
    {
     "data": {
      "text/plain": [
       "(65250, 7)"
      ]
     },
     "execution_count": 22,
     "metadata": {},
     "output_type": "execute_result"
    }
   ],
   "source": [
    "final_arr.shape"
   ]
  },
  {
   "cell_type": "code",
   "execution_count": 23,
   "metadata": {},
   "outputs": [
    {
     "data": {
      "text/plain": [
       "array([['1142043', '173652', 'IN', 'AF3', '0', '256', '4256.923076'],\n",
       "       ['1142044', '173652', 'IN', 'AF4', '0', '256', '4164.102564'],\n",
       "       ['1142045', '173652', 'IN', 'T7', '0', '256', '4261.538461'],\n",
       "       ['1142046', '173652', 'IN', 'T8', '0', '256', '4197.948717'],\n",
       "       ['1142047', '173652', 'IN', 'PZ', '0', '256', '4198.974358'],\n",
       "       ['1142048', '173653', 'IN', 'AF3', '6', '252', '4286.666666'],\n",
       "       ['1142049', '173653', 'IN', 'AF4', '6', '252', '4272.307692'],\n",
       "       ['1142050', '173653', 'IN', 'T7', '6', '252', '4272.307692'],\n",
       "       ['1142051', '173653', 'IN', 'T8', '6', '252', '4213.333333'],\n",
       "       ['1142052', '173653', 'IN', 'PZ', '6', '252', '4213.846153']],\n",
       "      dtype='<U32')"
      ]
     },
     "execution_count": 23,
     "metadata": {},
     "output_type": "execute_result"
    }
   ],
   "source": [
    "final_arr[:10]"
   ]
  },
  {
   "cell_type": "code",
   "execution_count": 24,
   "metadata": {},
   "outputs": [],
   "source": [
    "sub_arr = np.delete(final_arr, 0, 1)\n",
    "final_arr = np.delete(sub_arr, 1, 1)"
   ]
  },
  {
   "cell_type": "code",
   "execution_count": 25,
   "metadata": {},
   "outputs": [
    {
     "data": {
      "text/plain": [
       "array([['173652', 'AF3', '0', '256', '4256.923076'],\n",
       "       ['173652', 'AF4', '0', '256', '4164.102564'],\n",
       "       ['173652', 'T7', '0', '256', '4261.538461'],\n",
       "       ...,\n",
       "       ['186701', 'T7', '0', '257', '4233.333333'],\n",
       "       ['186701', 'T8', '0', '257', '4215.384615'],\n",
       "       ['186701', 'PZ', '0', '257', '4220.51282']], dtype='<U32')"
      ]
     },
     "execution_count": 25,
     "metadata": {},
     "output_type": "execute_result"
    }
   ],
   "source": [
    "final_arr"
   ]
  },
  {
   "cell_type": "code",
   "execution_count": 26,
   "metadata": {},
   "outputs": [],
   "source": [
    "df = pd.DataFrame(final_arr, columns=[\"Event\", \"Channel\", \"Digit\", \"Value Count\", \"Avg_value\"])"
   ]
  },
  {
   "cell_type": "code",
   "execution_count": 27,
   "metadata": {},
   "outputs": [
    {
     "data": {
      "text/html": [
       "<div>\n",
       "<style scoped>\n",
       "    .dataframe tbody tr th:only-of-type {\n",
       "        vertical-align: middle;\n",
       "    }\n",
       "\n",
       "    .dataframe tbody tr th {\n",
       "        vertical-align: top;\n",
       "    }\n",
       "\n",
       "    .dataframe thead th {\n",
       "        text-align: right;\n",
       "    }\n",
       "</style>\n",
       "<table border=\"1\" class=\"dataframe\">\n",
       "  <thead>\n",
       "    <tr style=\"text-align: right;\">\n",
       "      <th></th>\n",
       "      <th>Event</th>\n",
       "      <th>Channel</th>\n",
       "      <th>Digit</th>\n",
       "      <th>Value Count</th>\n",
       "      <th>Avg_value</th>\n",
       "    </tr>\n",
       "  </thead>\n",
       "  <tbody>\n",
       "    <tr>\n",
       "      <th>0</th>\n",
       "      <td>173652</td>\n",
       "      <td>AF3</td>\n",
       "      <td>0</td>\n",
       "      <td>256</td>\n",
       "      <td>4256.923076</td>\n",
       "    </tr>\n",
       "    <tr>\n",
       "      <th>1</th>\n",
       "      <td>173652</td>\n",
       "      <td>AF4</td>\n",
       "      <td>0</td>\n",
       "      <td>256</td>\n",
       "      <td>4164.102564</td>\n",
       "    </tr>\n",
       "    <tr>\n",
       "      <th>2</th>\n",
       "      <td>173652</td>\n",
       "      <td>T7</td>\n",
       "      <td>0</td>\n",
       "      <td>256</td>\n",
       "      <td>4261.538461</td>\n",
       "    </tr>\n",
       "    <tr>\n",
       "      <th>3</th>\n",
       "      <td>173652</td>\n",
       "      <td>T8</td>\n",
       "      <td>0</td>\n",
       "      <td>256</td>\n",
       "      <td>4197.948717</td>\n",
       "    </tr>\n",
       "    <tr>\n",
       "      <th>4</th>\n",
       "      <td>173652</td>\n",
       "      <td>PZ</td>\n",
       "      <td>0</td>\n",
       "      <td>256</td>\n",
       "      <td>4198.974358</td>\n",
       "    </tr>\n",
       "  </tbody>\n",
       "</table>\n",
       "</div>"
      ],
      "text/plain": [
       "    Event Channel Digit Value Count    Avg_value\n",
       "0  173652     AF3     0         256  4256.923076\n",
       "1  173652     AF4     0         256  4164.102564\n",
       "2  173652      T7     0         256  4261.538461\n",
       "3  173652      T8     0         256  4197.948717\n",
       "4  173652      PZ     0         256  4198.974358"
      ]
     },
     "execution_count": 27,
     "metadata": {},
     "output_type": "execute_result"
    }
   ],
   "source": [
    "df.head()"
   ]
  },
  {
   "cell_type": "code",
   "execution_count": 28,
   "metadata": {},
   "outputs": [],
   "source": [
    "df.to_csv(\"med_data.csv\", index=False)"
   ]
  },
  {
   "cell_type": "code",
   "execution_count": null,
   "metadata": {},
   "outputs": [],
   "source": []
  }
 ],
 "metadata": {
  "kernelspec": {
   "display_name": "Python 3",
   "language": "python",
   "name": "python3"
  },
  "language_info": {
   "codemirror_mode": {
    "name": "ipython",
    "version": 3
   },
   "file_extension": ".py",
   "mimetype": "text/x-python",
   "name": "python",
   "nbconvert_exporter": "python",
   "pygments_lexer": "ipython3",
   "version": "3.7.0"
  }
 },
 "nbformat": 4,
 "nbformat_minor": 4
}
