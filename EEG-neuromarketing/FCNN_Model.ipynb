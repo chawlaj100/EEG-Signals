{
 "cells": [
  {
   "cell_type": "code",
   "execution_count": 46,
   "metadata": {},
   "outputs": [],
   "source": [
    "import os\n",
    "import numpy as np\n",
    "import pandas as pd\n",
    "import tensorflow as tf\n",
    "import matplotlib.pyplot as plt"
   ]
  },
  {
   "cell_type": "code",
   "execution_count": 80,
   "metadata": {},
   "outputs": [],
   "source": [
    "from tensorflow.keras.models import Model, Sequential\n",
    "from tensorflow.keras.layers import Dense, BatchNormalization, Dropout\n",
    "from tensorflow.keras.optimizers import Adam"
   ]
  },
  {
   "cell_type": "code",
   "execution_count": 16,
   "metadata": {},
   "outputs": [],
   "source": [
    "from sklearn.model_selection import train_test_split"
   ]
  },
  {
   "cell_type": "code",
   "execution_count": 2,
   "metadata": {
    "scrolled": true
   },
   "outputs": [
    {
     "data": {
      "text/html": [
       "<div>\n",
       "<style scoped>\n",
       "    .dataframe tbody tr th:only-of-type {\n",
       "        vertical-align: middle;\n",
       "    }\n",
       "\n",
       "    .dataframe tbody tr th {\n",
       "        vertical-align: top;\n",
       "    }\n",
       "\n",
       "    .dataframe thead th {\n",
       "        text-align: right;\n",
       "    }\n",
       "</style>\n",
       "<table border=\"1\" class=\"dataframe\">\n",
       "  <thead>\n",
       "    <tr style=\"text-align: right;\">\n",
       "      <th></th>\n",
       "      <th>0</th>\n",
       "      <th>1</th>\n",
       "      <th>2</th>\n",
       "      <th>3</th>\n",
       "      <th>4</th>\n",
       "      <th>5</th>\n",
       "      <th>6</th>\n",
       "      <th>7</th>\n",
       "      <th>8</th>\n",
       "      <th>9</th>\n",
       "      <th>...</th>\n",
       "      <th>7159</th>\n",
       "      <th>7160</th>\n",
       "      <th>7161</th>\n",
       "      <th>7162</th>\n",
       "      <th>7163</th>\n",
       "      <th>7164</th>\n",
       "      <th>7165</th>\n",
       "      <th>7166</th>\n",
       "      <th>7167</th>\n",
       "      <th>7168</th>\n",
       "    </tr>\n",
       "  </thead>\n",
       "  <tbody>\n",
       "    <tr>\n",
       "      <th>0</th>\n",
       "      <td>3689</td>\n",
       "      <td>3701</td>\n",
       "      <td>3835</td>\n",
       "      <td>2734</td>\n",
       "      <td>4188</td>\n",
       "      <td>3781</td>\n",
       "      <td>3699</td>\n",
       "      <td>3702</td>\n",
       "      <td>3818</td>\n",
       "      <td>4218</td>\n",
       "      <td>...</td>\n",
       "      <td>4326</td>\n",
       "      <td>4305</td>\n",
       "      <td>4310</td>\n",
       "      <td>4289</td>\n",
       "      <td>4224</td>\n",
       "      <td>4271</td>\n",
       "      <td>4316</td>\n",
       "      <td>4309</td>\n",
       "      <td>4255</td>\n",
       "      <td>1</td>\n",
       "    </tr>\n",
       "    <tr>\n",
       "      <th>1</th>\n",
       "      <td>4181</td>\n",
       "      <td>4159</td>\n",
       "      <td>4178</td>\n",
       "      <td>4200</td>\n",
       "      <td>4226</td>\n",
       "      <td>4178</td>\n",
       "      <td>4154</td>\n",
       "      <td>4186</td>\n",
       "      <td>4157</td>\n",
       "      <td>4222</td>\n",
       "      <td>...</td>\n",
       "      <td>4202</td>\n",
       "      <td>4193</td>\n",
       "      <td>4194</td>\n",
       "      <td>4201</td>\n",
       "      <td>4223</td>\n",
       "      <td>4235</td>\n",
       "      <td>4238</td>\n",
       "      <td>4320</td>\n",
       "      <td>4252</td>\n",
       "      <td>0</td>\n",
       "    </tr>\n",
       "    <tr>\n",
       "      <th>2</th>\n",
       "      <td>4243</td>\n",
       "      <td>4218</td>\n",
       "      <td>4231</td>\n",
       "      <td>4216</td>\n",
       "      <td>4220</td>\n",
       "      <td>4203</td>\n",
       "      <td>4194</td>\n",
       "      <td>4201</td>\n",
       "      <td>4210</td>\n",
       "      <td>4225</td>\n",
       "      <td>...</td>\n",
       "      <td>4311</td>\n",
       "      <td>4309</td>\n",
       "      <td>4297</td>\n",
       "      <td>4308</td>\n",
       "      <td>4224</td>\n",
       "      <td>4296</td>\n",
       "      <td>4268</td>\n",
       "      <td>4334</td>\n",
       "      <td>4209</td>\n",
       "      <td>0</td>\n",
       "    </tr>\n",
       "    <tr>\n",
       "      <th>3</th>\n",
       "      <td>4278</td>\n",
       "      <td>4308</td>\n",
       "      <td>4274</td>\n",
       "      <td>4251</td>\n",
       "      <td>4223</td>\n",
       "      <td>4297</td>\n",
       "      <td>4298</td>\n",
       "      <td>4290</td>\n",
       "      <td>4303</td>\n",
       "      <td>4226</td>\n",
       "      <td>...</td>\n",
       "      <td>4136</td>\n",
       "      <td>4139</td>\n",
       "      <td>4147</td>\n",
       "      <td>4129</td>\n",
       "      <td>4224</td>\n",
       "      <td>4135</td>\n",
       "      <td>4176</td>\n",
       "      <td>4140</td>\n",
       "      <td>4170</td>\n",
       "      <td>1</td>\n",
       "    </tr>\n",
       "    <tr>\n",
       "      <th>4</th>\n",
       "      <td>4169</td>\n",
       "      <td>4131</td>\n",
       "      <td>4172</td>\n",
       "      <td>4183</td>\n",
       "      <td>4222</td>\n",
       "      <td>4144</td>\n",
       "      <td>4147</td>\n",
       "      <td>4148</td>\n",
       "      <td>4130</td>\n",
       "      <td>4213</td>\n",
       "      <td>...</td>\n",
       "      <td>4187</td>\n",
       "      <td>4206</td>\n",
       "      <td>4188</td>\n",
       "      <td>4189</td>\n",
       "      <td>4225</td>\n",
       "      <td>4176</td>\n",
       "      <td>4196</td>\n",
       "      <td>4268</td>\n",
       "      <td>4097</td>\n",
       "      <td>1</td>\n",
       "    </tr>\n",
       "  </tbody>\n",
       "</table>\n",
       "<p>5 rows × 7169 columns</p>\n",
       "</div>"
      ],
      "text/plain": [
       "      0     1     2     3     4     5     6     7     8     9  ...  7159  \\\n",
       "0  3689  3701  3835  2734  4188  3781  3699  3702  3818  4218  ...  4326   \n",
       "1  4181  4159  4178  4200  4226  4178  4154  4186  4157  4222  ...  4202   \n",
       "2  4243  4218  4231  4216  4220  4203  4194  4201  4210  4225  ...  4311   \n",
       "3  4278  4308  4274  4251  4223  4297  4298  4290  4303  4226  ...  4136   \n",
       "4  4169  4131  4172  4183  4222  4144  4147  4148  4130  4213  ...  4187   \n",
       "\n",
       "   7160  7161  7162  7163  7164  7165  7166  7167  7168  \n",
       "0  4305  4310  4289  4224  4271  4316  4309  4255     1  \n",
       "1  4193  4194  4201  4223  4235  4238  4320  4252     0  \n",
       "2  4309  4297  4308  4224  4296  4268  4334  4209     0  \n",
       "3  4139  4147  4129  4224  4135  4176  4140  4170     1  \n",
       "4  4206  4188  4189  4225  4176  4196  4268  4097     1  \n",
       "\n",
       "[5 rows x 7169 columns]"
      ]
     },
     "execution_count": 2,
     "metadata": {},
     "output_type": "execute_result"
    }
   ],
   "source": [
    "df = pd.read_csv(\"total.csv\")\n",
    "df.head()"
   ]
  },
  {
   "cell_type": "code",
   "execution_count": 3,
   "metadata": {},
   "outputs": [],
   "source": [
    "arr_total = np.array(df)"
   ]
  },
  {
   "cell_type": "code",
   "execution_count": 4,
   "metadata": {},
   "outputs": [
    {
     "data": {
      "text/plain": [
       "array([[3689, 3701, 3835, ..., 4309, 4255,    1],\n",
       "       [4181, 4159, 4178, ..., 4320, 4252,    0],\n",
       "       [4243, 4218, 4231, ..., 4334, 4209,    0],\n",
       "       ...,\n",
       "       [4244, 4218, 4277, ..., 4182, 4214,    0],\n",
       "       [4211, 4198, 4207, ..., 4113, 4240,    0],\n",
       "       [4165, 4117, 4191, ..., 4017, 4245,    0]], dtype=int64)"
      ]
     },
     "execution_count": 4,
     "metadata": {},
     "output_type": "execute_result"
    }
   ],
   "source": [
    "arr_total"
   ]
  },
  {
   "cell_type": "code",
   "execution_count": 12,
   "metadata": {},
   "outputs": [],
   "source": [
    "X = arr_total[:,:-1]"
   ]
  },
  {
   "cell_type": "code",
   "execution_count": 14,
   "metadata": {},
   "outputs": [],
   "source": [
    "Y = arr_total[:,-1]"
   ]
  },
  {
   "cell_type": "code",
   "execution_count": 15,
   "metadata": {},
   "outputs": [
    {
     "data": {
      "text/plain": [
       "array([1, 0, 0, ..., 0, 0, 0], dtype=int64)"
      ]
     },
     "execution_count": 15,
     "metadata": {},
     "output_type": "execute_result"
    }
   ],
   "source": [
    "Y"
   ]
  },
  {
   "cell_type": "code",
   "execution_count": 93,
   "metadata": {},
   "outputs": [],
   "source": [
    "X_n = []\n",
    "for row in X:\n",
    "    #save = (row - row.min()) / (row.max() - row.min())\n",
    "    save = (row - row.mean()) / row.std()\n",
    "    X_n.append(save)"
   ]
  },
  {
   "cell_type": "code",
   "execution_count": 94,
   "metadata": {},
   "outputs": [],
   "source": [
    "X_n = np.array(X_n)"
   ]
  },
  {
   "cell_type": "code",
   "execution_count": 95,
   "metadata": {},
   "outputs": [],
   "source": [
    "def create_model():\n",
    "    model = Sequential([])\n",
    "    \n",
    "    model.add(Dense(512, activation=\"relu\"))\n",
    "    \n",
    "    model.add(Dropout(0.2))\n",
    "    model.add(Dense(256, activation=\"relu\"))\n",
    "    \n",
    "    model.add(Dropout(0.2))\n",
    "    model.add(Dense(64, activation=\"relu\"))\n",
    "    \n",
    "    model.add(Dense(1, activation=\"sigmoid\"))\n",
    "    \n",
    "    return model"
   ]
  },
  {
   "cell_type": "code",
   "execution_count": 96,
   "metadata": {},
   "outputs": [],
   "source": [
    "my_model = create_model()"
   ]
  },
  {
   "cell_type": "code",
   "execution_count": 97,
   "metadata": {},
   "outputs": [],
   "source": [
    "my_model.compile(optimizer=Adam(lr=0.001), loss=\"binary_crossentropy\", metrics=\"acc\")"
   ]
  },
  {
   "cell_type": "code",
   "execution_count": 98,
   "metadata": {},
   "outputs": [
    {
     "name": "stdout",
     "output_type": "stream",
     "text": [
      "Epoch 1/25\n",
      "WARNING:tensorflow:Layer dense_32 is casting an input tensor from dtype float64 to the layer's dtype of float32, which is new behavior in TensorFlow 2.  The layer has dtype float32 because it's dtype defaults to floatx.\n",
      "\n",
      "If you intended to run this layer in float32, you can safely ignore this warning. If in doubt, this warning is likely only an issue if you are porting a TensorFlow 1.X model to TensorFlow 2.\n",
      "\n",
      "To change all layers to have dtype float64 by default, call `tf.keras.backend.set_floatx('float64')`. To change just this layer, pass dtype='float64' to the layer constructor. If you are the author of this layer, you can disable autocasting by passing autocast=False to the base Layer constructor.\n",
      "\n",
      "27/27 - 1s - loss: 10.4855 - acc: 0.4689 - val_loss: 1.0622 - val_acc: 0.6268\n",
      "Epoch 2/25\n",
      "27/27 - 0s - loss: 4.3450 - acc: 0.4988 - val_loss: 1.1886 - val_acc: 0.6268\n",
      "Epoch 3/25\n",
      "27/27 - 0s - loss: 2.3774 - acc: 0.4976 - val_loss: 0.6624 - val_acc: 0.6316\n",
      "Epoch 4/25\n",
      "27/27 - 0s - loss: 1.1786 - acc: 0.5371 - val_loss: 0.8685 - val_acc: 0.3732\n",
      "Epoch 5/25\n",
      "27/27 - 0s - loss: 1.2842 - acc: 0.4713 - val_loss: 0.6608 - val_acc: 0.6268\n",
      "Epoch 6/25\n",
      "27/27 - 0s - loss: 0.9476 - acc: 0.5287 - val_loss: 0.7090 - val_acc: 0.3828\n",
      "Epoch 7/25\n",
      "27/27 - 0s - loss: 0.7580 - acc: 0.4940 - val_loss: 0.6890 - val_acc: 0.6077\n",
      "Epoch 8/25\n",
      "27/27 - 0s - loss: 0.7160 - acc: 0.5096 - val_loss: 0.6758 - val_acc: 0.6268\n",
      "Epoch 9/25\n",
      "27/27 - 0s - loss: 0.6899 - acc: 0.5419 - val_loss: 0.6913 - val_acc: 0.6268\n",
      "Epoch 10/25\n",
      "27/27 - 0s - loss: 0.6923 - acc: 0.5419 - val_loss: 0.6881 - val_acc: 0.6268\n",
      "Epoch 11/25\n",
      "27/27 - 0s - loss: 0.6914 - acc: 0.5419 - val_loss: 0.6851 - val_acc: 0.6268\n",
      "Epoch 12/25\n",
      "27/27 - 0s - loss: 0.6907 - acc: 0.5419 - val_loss: 0.6828 - val_acc: 0.6268\n",
      "Epoch 13/25\n",
      "27/27 - 0s - loss: 0.6904 - acc: 0.5419 - val_loss: 0.6804 - val_acc: 0.6268\n",
      "Epoch 14/25\n",
      "27/27 - 0s - loss: 0.6901 - acc: 0.5419 - val_loss: 0.6794 - val_acc: 0.6268\n",
      "Epoch 15/25\n",
      "27/27 - 0s - loss: 0.6899 - acc: 0.5419 - val_loss: 0.6777 - val_acc: 0.6268\n",
      "Epoch 16/25\n",
      "27/27 - 0s - loss: 0.6899 - acc: 0.5419 - val_loss: 0.6781 - val_acc: 0.6268\n",
      "Epoch 17/25\n",
      "27/27 - 0s - loss: 0.6898 - acc: 0.5419 - val_loss: 0.6782 - val_acc: 0.6268\n",
      "Epoch 18/25\n",
      "27/27 - 0s - loss: 0.6897 - acc: 0.5419 - val_loss: 0.6761 - val_acc: 0.6268\n",
      "Epoch 19/25\n",
      "27/27 - 0s - loss: 0.6896 - acc: 0.5419 - val_loss: 0.6758 - val_acc: 0.6268\n",
      "Epoch 20/25\n",
      "27/27 - 0s - loss: 0.6896 - acc: 0.5419 - val_loss: 0.6762 - val_acc: 0.6268\n",
      "Epoch 21/25\n",
      "27/27 - 0s - loss: 0.6898 - acc: 0.5419 - val_loss: 0.6766 - val_acc: 0.6268\n",
      "Epoch 22/25\n",
      "27/27 - 0s - loss: 0.6896 - acc: 0.5419 - val_loss: 0.6762 - val_acc: 0.6268\n",
      "Epoch 23/25\n",
      "27/27 - 0s - loss: 0.6896 - acc: 0.5419 - val_loss: 0.6745 - val_acc: 0.6268\n",
      "Epoch 24/25\n",
      "27/27 - 0s - loss: 0.6898 - acc: 0.5419 - val_loss: 0.6750 - val_acc: 0.6268\n",
      "Epoch 25/25\n",
      "27/27 - 0s - loss: 0.6900 - acc: 0.5419 - val_loss: 0.6763 - val_acc: 0.6268\n"
     ]
    }
   ],
   "source": [
    "history = my_model.fit(X_n, Y, epochs=25, validation_split=0.2, verbose=2)"
   ]
  },
  {
   "cell_type": "code",
   "execution_count": 99,
   "metadata": {},
   "outputs": [],
   "source": [
    "train_acc = history.history[\"acc\"]\n",
    "test_acc = history.history[\"val_acc\"]"
   ]
  },
  {
   "cell_type": "code",
   "execution_count": 100,
   "metadata": {},
   "outputs": [],
   "source": [
    "train_loss = history.history[\"loss\"]\n",
    "test_loss = history.history[\"val_loss\"]"
   ]
  },
  {
   "cell_type": "code",
   "execution_count": 101,
   "metadata": {},
   "outputs": [
    {
     "data": {
      "image/png": "[encoded data removed]",
      "text/plain": [
       "<Figure size 432x288 with 1 Axes>"
      ]
     },
     "metadata": {
      "needs_background": "light"
     },
     "output_type": "display_data"
    }
   ],
   "source": [
    "plt.plot(range(25), train_acc)\n",
    "plt.plot(range(25), test_acc, color=\"red\")\n",
    "plt.xlabel(\"epochs\")\n",
    "plt.ylabel(\"Accuracy\")\n",
    "plt.title(\"Acc Plot\")\n",
    "plt.legend(['Training Acc', 'Test Acc'])\n",
    "plt.show()"
   ]
  },
  {
   "cell_type": "code",
   "execution_count": 102,
   "metadata": {},
   "outputs": [
    {
     "data": {
      "image/png": "[encoded data removed]",
      "text/plain": [
       "<Figure size 432x288 with 1 Axes>"
      ]
     },
     "metadata": {
      "needs_background": "light"
     },
     "output_type": "display_data"
    }
   ],
   "source": [
    "plt.plot(range(25), train_loss)\n",
    "plt.plot(range(25), test_loss, color=\"red\")\n",
    "plt.xlabel(\"epochs\")\n",
    "plt.ylabel(\"Loss\")\n",
    "plt.title(\"Loss Plot\")\n",
    "plt.legend(['Training Loss', 'Test Loss'])\n",
    "plt.show()"
   ]
  },
  {
   "cell_type": "code",
   "execution_count": null,
   "metadata": {},
   "outputs": [],
   "source": []
  }
 ],
 "metadata": {
  "kernelspec": {
   "display_name": "Python 3",
   "language": "python",
   "name": "python3"
  },
  "language_info": {
   "codemirror_mode": {
    "name": "ipython",
    "version": 3
   },
   "file_extension": ".py",
   "mimetype": "text/x-python",
   "name": "python",
   "nbconvert_exporter": "python",
   "pygments_lexer": "ipython3",
   "version": "3.7.0"
  }
 },
 "nbformat": 4,
 "nbformat_minor": 4
}
